{
 "cells": [
  {
   "cell_type": "code",
   "execution_count": 1,
   "id": "3a855f9d",
   "metadata": {
    "_cell_guid": "b1076dfc-b9ad-4769-8c92-a6c4dae69d19",
    "_uuid": "8f2839f25d086af736a60e9eeb907d3b93b6e0e5",
    "execution": {
     "iopub.execute_input": "2024-05-21T16:56:53.812450Z",
     "iopub.status.busy": "2024-05-21T16:56:53.811427Z",
     "iopub.status.idle": "2024-05-21T16:56:56.010069Z",
     "shell.execute_reply": "2024-05-21T16:56:56.008817Z"
    },
    "papermill": {
     "duration": 2.205037,
     "end_time": "2024-05-21T16:56:56.012620",
     "exception": false,
     "start_time": "2024-05-21T16:56:53.807583",
     "status": "completed"
    },
    "tags": []
   },
   "outputs": [],
   "source": [
    "import numpy as np \n",
    "import pandas as pd \n",
    "import matplotlib.pyplot as plt\n",
    "import seaborn as sns"
   ]
  },
  {
   "cell_type": "code",
   "execution_count": 2,
   "id": "6ff042b5",
   "metadata": {
    "execution": {
     "iopub.execute_input": "2024-05-21T16:56:56.018228Z",
     "iopub.status.busy": "2024-05-21T16:56:56.017682Z",
     "iopub.status.idle": "2024-05-21T16:58:42.237181Z",
     "shell.execute_reply": "2024-05-21T16:58:42.235879Z"
    },
    "papermill": {
     "duration": 106.225537,
     "end_time": "2024-05-21T16:58:42.240235",
     "exception": false,
     "start_time": "2024-05-21T16:56:56.014698",
     "status": "completed"
    },
    "tags": []
   },
   "outputs": [],
   "source": [
    "playlist = pd.read_csv('../input/nfl-playing-surface-analytics/PlayList.csv')\n",
    "inj = pd.read_csv('../input/nfl-playing-surface-analytics/InjuryRecord.csv')\n",
    "trk = pd.read_csv('../input/nfl-playing-surface-analytics/PlayerTrackData.csv')"
   ]
  }
 ],
 "metadata": {
  "kaggle": {
   "accelerator": "none",
   "dataSources": [
    {
     "databundleVersionId": 828454,
     "sourceId": 17484,
     "sourceType": "competition"
    }
   ],
   "dockerImageVersionId": 30698,
   "isGpuEnabled": false,
   "isInternetEnabled": true,
   "language": "python",
   "sourceType": "notebook"
  },
  "kernelspec": {
   "display_name": "Python 3",
   "language": "python",
   "name": "python3"
  },
  "language_info": {
   "codemirror_mode": {
    "name": "ipython",
    "version": 3
   },
   "file_extension": ".py",
   "mimetype": "text/x-python",
   "name": "python",
   "nbconvert_exporter": "python",
   "pygments_lexer": "ipython3",
   "version": "3.10.13"
  },
  "papermill": {
   "default_parameters": {},
   "duration": 112.369863,
   "end_time": "2024-05-21T16:58:43.365483",
   "environment_variables": {},
   "exception": null,
   "input_path": "__notebook__.ipynb",
   "output_path": "__notebook__.ipynb",
   "parameters": {},
   "start_time": "2024-05-21T16:56:50.995620",
   "version": "2.5.0"
  }
 },
 "nbformat": 4,
 "nbformat_minor": 5
}
